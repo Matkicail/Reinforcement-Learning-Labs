{
 "cells": [
  {
   "cell_type": "code",
   "execution_count": 40,
   "source": [
    "import numpy as np\r\n",
    "import gym\r\n",
    "from copy import deepcopy\r\n",
    "\r\n",
    "class EpsilonGreedyQPolicy():\r\n",
    "    \r\n",
    "    def __init__(self, epsilon = 0.1):\r\n",
    "        self.epsilon = epsilon\r\n",
    "\r\n",
    "    def selectAction(self, qValues):\r\n",
    "        nb_actions = qValues.shape[0]\r\n",
    "\r\n",
    "        if np.random.uniform() < self.epsilon:\r\n",
    "            action = np.random.randint(0, nb_actions)\r\n",
    "        else:\r\n",
    "            action = np.argmax(qValues)\r\n",
    "        \r\n",
    "        return action\r\n",
    "\r\n",
    "class SARSALambaAgent():\r\n",
    "\r\n",
    "    def __init__(self, nb_actions, nb_states, gamma = 0.5, lambdaValue = 0, policy = EpsilonGreedyQPolicy(), terminalStates = None):\r\n",
    "        self.nb_actions = nb_actions\r\n",
    "        self.nb_states = nb_states\r\n",
    "        self.gamma = gamma\r\n",
    "        self.lambdaValue = lambdaValue\r\n",
    "        self.policy = policy\r\n",
    "        self.epsilon = self.policy.epsilon\r\n",
    "        self.terminalStates = terminalStates\r\n",
    "        self.qValues = np.random.rand(self.nb_states, self.nb_actions)\r\n",
    "\r\n",
    "        if self.terminalStates is not None:\r\n",
    "            for state in self.terminalStates:\r\n",
    "                self.qValues[state] = np.zeros(self.nb_actions)\r\n",
    "\r\n"
   ],
   "outputs": [],
   "metadata": {}
  },
  {
   "cell_type": "code",
   "execution_count": 41,
   "source": [
    "ENV_NAME = 'CliffWalking-v0'\r\n",
    "env = gym.make(ENV_NAME)\r\n",
    "nb_actions = env.action_space.n\r\n",
    "nb_states = env.observation_space.n"
   ],
   "outputs": [],
   "metadata": {}
  },
  {
   "cell_type": "code",
   "execution_count": 45,
   "source": [
    "print(env.observation_space)\r\n",
    "temp = np.array([2]) \r\n",
    "print(temp.shape)\r\n",
    "for i in temp:\r\n",
    "    print(i)"
   ],
   "outputs": [
    {
     "output_type": "stream",
     "name": "stdout",
     "text": [
      "Discrete(48)\n",
      "(1,)\n",
      "2\n"
     ]
    }
   ],
   "metadata": {}
  }
 ],
 "metadata": {
  "orig_nbformat": 4,
  "language_info": {
   "name": "python",
   "version": "3.9.2",
   "mimetype": "text/x-python",
   "codemirror_mode": {
    "name": "ipython",
    "version": 3
   },
   "pygments_lexer": "ipython3",
   "nbconvert_exporter": "python",
   "file_extension": ".py"
  },
  "kernelspec": {
   "name": "python3",
   "display_name": "Python 3.9.2 64-bit"
  },
  "interpreter": {
   "hash": "68a53a60f8dbe8ab693540a0dcf8d1cd7605000b65397d9117b399451174eee8"
  }
 },
 "nbformat": 4,
 "nbformat_minor": 2
}